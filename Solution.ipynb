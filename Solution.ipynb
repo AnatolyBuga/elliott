{
 "cells": [
  {
   "cell_type": "markdown",
   "id": "38ce2dc8-5528-49bf-b55b-a2570bbfa6ba",
   "metadata": {},
   "source": [
    "# Portfolio of Outstanding Loans Analysis"
   ]
  },
  {
   "cell_type": "markdown",
   "id": "9a3964d5-0969-4791-85be-e93b5177bb83",
   "metadata": {},
   "source": [
    "### Q1. Data as single dataframe"
   ]
  },
  {
   "cell_type": "code",
   "execution_count": 2,
   "id": "94e7180f-0d75-4207-929e-99223efcc27f",
   "metadata": {},
   "outputs": [],
   "source": [
    "from pola import DataSet"
   ]
  },
  {
   "cell_type": "code",
   "execution_count": null,
   "id": "8a8b7272-bb41-495d-aad4-8b4181dc3e0c",
   "metadata": {},
   "outputs": [],
   "source": []
  },
  {
   "cell_type": "code",
   "execution_count": null,
   "id": "8e109be0-cdde-4560-8ce2-47d6938b5247",
   "metadata": {},
   "outputs": [],
   "source": []
  }
 ],
 "metadata": {
  "kernelspec": {
   "display_name": "Python 3 (ipykernel)",
   "language": "python",
   "name": "python3"
  },
  "language_info": {
   "codemirror_mode": {
    "name": "ipython",
    "version": 3
   },
   "file_extension": ".py",
   "mimetype": "text/x-python",
   "name": "python",
   "nbconvert_exporter": "python",
   "pygments_lexer": "ipython3",
   "version": "3.11.0"
  }
 },
 "nbformat": 4,
 "nbformat_minor": 5
}
